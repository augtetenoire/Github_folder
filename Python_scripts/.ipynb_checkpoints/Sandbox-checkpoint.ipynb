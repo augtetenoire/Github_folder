{
 "cells": [
  {
   "cell_type": "markdown",
   "metadata": {},
   "source": [
    "# Program Principale\n",
    "### ------------------------------------------------------------------------------------"
   ]
  },
  {
   "cell_type": "code",
   "execution_count": 19,
   "metadata": {},
   "outputs": [
    {
     "name": "stdout",
     "output_type": "stream",
     "text": [
      "configuration number =  10000  is  <class 'int'>\n",
      "\n",
      "comment_line=  Ru                                      \n",
      "  is  <class 'str'>\n",
      "\n",
      "lparam_a=  1.0  is  <class 'float'>\n",
      "\n",
      "cell_vectors=  [[10.92      0.        0.      ]\n",
      " [ 2.73      4.728499  0.      ]\n",
      " [ 0.        0.       30.0027  ]]  is  <class 'numpy.ndarray'>\n",
      "\n",
      "species=  ['Ru', 'C', 'O']  is  <class 'list'>\n",
      "\n",
      "species_number=  [40  4  8]  is  <class 'numpy.int64'>\n",
      "\n",
      "ions_number=  52  is  <class 'numpy.int64'>\n",
      "\n",
      "configuration=  [[[0.         0.         0.        ]\n",
      "  [0.25       0.         0.        ]\n",
      "  [0.5        0.         0.        ]\n",
      "  ...\n",
      "  [0.4136058  0.35584468 0.33053644]\n",
      "  [0.66576437 0.35184872 0.33200914]\n",
      "  [0.91331156 0.36522782 0.33137538]]\n",
      "\n",
      " [[0.         0.         0.        ]\n",
      "  [0.25       0.         0.        ]\n",
      "  [0.5        0.         0.        ]\n",
      "  ...\n",
      "  [0.41379563 0.35574005 0.33062272]\n",
      "  [0.66548476 0.35279529 0.33213308]\n",
      "  [0.91320591 0.36521065 0.33148867]]\n",
      "\n",
      " [[0.         0.         0.        ]\n",
      "  [0.25       0.         0.        ]\n",
      "  [0.5        0.         0.        ]\n",
      "  ...\n",
      "  [0.41400584 0.35558503 0.33070956]\n",
      "  [0.66522494 0.35371412 0.332253  ]\n",
      "  [0.91312726 0.36511369 0.33160081]]\n",
      "\n",
      " ...\n",
      "\n",
      " [[0.         0.         0.        ]\n",
      "  [0.25       0.         0.        ]\n",
      "  [0.5        0.         0.        ]\n",
      "  ...\n",
      "  [0.4176876  0.34302485 0.32934394]\n",
      "  [0.66363401 0.35146486 0.33015517]\n",
      "  [0.91830481 0.34008543 0.33055643]]\n",
      "\n",
      " [[0.         0.         0.        ]\n",
      "  [0.25       0.         0.        ]\n",
      "  [0.5        0.         0.        ]\n",
      "  ...\n",
      "  [0.41757027 0.34332776 0.32926104]\n",
      "  [0.66398781 0.35040541 0.33014598]\n",
      "  [0.91852517 0.33974686 0.33046078]]\n",
      "\n",
      " [[0.         0.         0.        ]\n",
      "  [0.25       0.         0.        ]\n",
      "  [0.5        0.         0.        ]\n",
      "  ...\n",
      "  [0.4174342  0.34367264 0.32918344]\n",
      "  [0.6643387  0.34934792 0.33014799]\n",
      "  [0.91872511 0.33946444 0.33036738]]]  is  <class 'numpy.ndarray'>\n",
      "\n",
      "configuration=  [[[0.         0.         0.        ]\n",
      "  [0.25       0.         0.        ]\n",
      "  [0.5        0.         0.        ]\n",
      "  ...\n",
      "  [0.40926703 0.34084697 0.32634265]\n",
      "  [0.66253162 0.34247009 0.32874948]\n",
      "  [0.90505206 0.35966869 0.33035782]]\n",
      "\n",
      " [[0.         0.         0.        ]\n",
      "  [0.25       0.         0.        ]\n",
      "  [0.5        0.         0.        ]\n",
      "  ...\n",
      "  [0.40896671 0.34107499 0.32634173]\n",
      "  [0.66256797 0.34265752 0.32882628]\n",
      "  [0.9050561  0.35958443 0.33036899]]\n",
      "\n",
      " [[0.         0.         0.        ]\n",
      "  [0.25       0.         0.        ]\n",
      "  [0.5        0.         0.        ]\n",
      "  ...\n",
      "  [0.408663   0.34130556 0.32634231]\n",
      "  [0.6625916  0.3428284  0.32890796]\n",
      "  [0.90508027 0.35943207 0.33038007]]\n",
      "\n",
      " ...\n",
      "\n",
      " [[0.         0.         0.        ]\n",
      "  [0.25       0.         0.        ]\n",
      "  [0.5        0.         0.        ]\n",
      "  ...\n",
      "  [0.41124442 0.34101611 0.33226438]\n",
      "  [0.66198712 0.33932427 0.33062135]\n",
      "  [0.91676675 0.33153497 0.33086185]]\n",
      "\n",
      " [[0.         0.         0.        ]\n",
      "  [0.25       0.         0.        ]\n",
      "  [0.5        0.         0.        ]\n",
      "  ...\n",
      "  [0.41128462 0.34126589 0.33228332]\n",
      "  [0.66182538 0.33955667 0.33060068]\n",
      "  [0.91674957 0.33171743 0.33084333]]\n",
      "\n",
      " [[0.         0.         0.        ]\n",
      "  [0.25       0.         0.        ]\n",
      "  [0.5        0.         0.        ]\n",
      "  ...\n",
      "  [0.41133333 0.34150195 0.33230648]\n",
      "  [0.66166272 0.33982311 0.33058107]\n",
      "  [0.91671477 0.33193965 0.33082379]]]  is  <class 'numpy.ndarray'>\n",
      "\n"
     ]
    }
   ],
   "source": [
    "# -*- coding: utf-8 -*-\n",
    "\"\"\"\n",
    "Created on Fri Dec 14 16:59:31 2018\n",
    "\n",
    "@author: auguste\n",
    "\"\"\"\n",
    "\n",
    "import numpy as np\n",
    "import scipy\n",
    "import matplotlib.pyplot as plt\n",
    "import re\n",
    "\n",
    "\n",
    "##################################################\n",
    "##################################################\n",
    "##################################################\n",
    "#   This program read the VASP XDATCAR file in order to operate on ions coordinates\n",
    "##################################################\n",
    "##################################################\n",
    "##################################################\n",
    "\n",
    "\n",
    "\n",
    "#~/Server_mount/Ruthenium/Molecular_Dynamics/KPOINTS_361/RPBE/SMASSS_0.01/756580.maui01_Molecular_dynamics_SMASS_0.01_RPBE_KPOINT_361/finish/767798.maui01_Molecular_dynamics_SMASS_0.01_RPBE_KPOINT_361\n",
    "\n",
    "\n",
    "#home/auguste/TEST/IBRION_2/XDATCAR'\n",
    "\n",
    "XDATCAR_PATH= '/home/auguste/Server_mount/Ruthenium/Molecular_Dynamics/KPOINTS_361/RPBE/SMASSS_0.01/756580.maui01_Molecular_dynamics_SMASS_0.01_RPBE_KPOINT_361/finish/767798.maui01_Molecular_dynamics_SMASS_0.01_RPBE_KPOINT_361/XDATCAR'\n",
    "\n",
    "\n",
    "##################################################\n",
    "#   Start reading the number of configuration in XDATCAR file\n",
    "##################################################\n",
    "config_number=0\n",
    "XDATCAR_file = open(XDATCAR_PATH,'r')\n",
    "\n",
    "for line in XDATCAR_file:\n",
    "    if re.match(\"Direct configuration=\", line):\n",
    "        config_number = config_number +1\n",
    "\n",
    "print('configuration number = ', config_number, ' is ',type(config_number))\n",
    "print('')\n",
    "##################################################\n",
    "#   End reading the number of configuration in XDATCAR file\n",
    "##################################################\n",
    "\n",
    "\n",
    "\n",
    "##################################################\n",
    "#   Start reading informations of the XDATCAR file\n",
    "##################################################\n",
    "\n",
    "with open(XDATCAR_PATH,'r') as XDATCAR_file:\n",
    "    \n",
    "    ##################################################\n",
    "    #   Reading first line of the document\n",
    "    ##################################################\n",
    "    \n",
    "    comment_line = str(XDATCAR_file.readline()) \n",
    "    \n",
    "    ##################################################\n",
    "    #   Reading the lattice parameter which multiply the matrix\n",
    "    ##################################################\n",
    "    \n",
    "    lparam_a = float(XDATCAR_file.readline())\n",
    "    \n",
    "    ##################################################\n",
    "    #   Reading the lattice vectors a,b,c\n",
    "    ##################################################\n",
    "    \n",
    "    cell_vectors= [] #They are lying... In python we must initialised variables... I don't understand why peoples find this easier than fortran... #SadWorld\n",
    "    for i in range(3):\n",
    "        cell_vectors.append(np.array(next(XDATCAR_file).split()).astype(float))\n",
    "        \n",
    "    cell_vectors = np.asarray(cell_vectors)# to convert cell_vector in a nice computable matrix\n",
    "    \n",
    "    \n",
    "    \n",
    "        #I stop here to comment a bit the program.\n",
    "        #split() is used to split the readed line into column. Without argument it skip blank space (that is what we want it to do). It also put all the splited colums in an array.\n",
    "        #next(file) is used to pass to the next output. \n",
    "        #That is to say: the current output is the one of the precedent readed line \"lparam_a\", then with next() we are going to the following outup, thus we get the first line of cell vector, and so on three times, as it is in range(3) for loop.\n",
    "        #Finally we used .append() to concatenate the three vectors in an array to create a matrix !\n",
    "        #We hence have floats, in array, in array == matrix\n",
    "        \n",
    "    ##################################################\n",
    "    #   Reading species\n",
    "    ##################################################\n",
    "    \n",
    "    species = XDATCAR_file.readline().split()\n",
    "    \n",
    "    ##################################################\n",
    "    #   Reading the number of element of each species\n",
    "    ##################################################\n",
    "    \n",
    "    species_number = np.array(XDATCAR_file.readline().split()).astype(int)\n",
    "   \n",
    "    \n",
    "    #Counting the number of ions in the system\n",
    "    ions_number=0\n",
    "    for i in range(len(species_number)):\n",
    "        ions_number = ions_number + species_number[i]\n",
    "    \n",
    "    ##################################################\n",
    "    #   Reading the number label of the configuration & ions vector for this configuration\n",
    "    ##################################################\n",
    "    \n",
    "    \n",
    "    \n",
    "    \n",
    "    configuration = []\n",
    "    for conf in range(config_number):\n",
    "        configuration_label = np.array(re.findall(r'[\\d.]+', XDATCAR_file.readline())).astype(int)\n",
    "        #print('configuration_label= ',configuration_label, ' is ',type(configuration_label[0]))\n",
    "        #print('')\n",
    "        ions_vectors = []\n",
    "        for i in range(ions_number):\n",
    "            ions_vectors.append(np.array(next(XDATCAR_file).split()).astype(float))   \n",
    "            \n",
    "        configuration.append(np.array(ions_vectors))\n",
    "        #print('ions_vectors= ',ions_vectors, ' is ',type(ions_vectors))\n",
    "        #print('')\n",
    "    configuration = np.asarray(configuration) # convert configuration in a nice matrix\n",
    "    \n",
    "    #Example: configuration[2][1,1] is the 3rd configuration, 2nd line, y coordinate\n",
    "    \n",
    "    \n",
    "XDATCAR_file.closed\n",
    "##################################################\n",
    "#   End of reading informations of the XDATCAR file\n",
    "##################################################\n",
    "\n",
    "print('comment_line= ',comment_line, ' is ',type(comment_line))\n",
    "print('')\n",
    "print('lparam_a= ',lparam_a, ' is ',type(lparam_a))\n",
    "print('')\n",
    "print('cell_vectors= ',cell_vectors, ' is ',type(cell_vectors))\n",
    "print('')\n",
    "print('species= ',species, ' is ',type(species))\n",
    "print('')\n",
    "print('species_number= ',species_number, ' is ',type(species_number[0]))\n",
    "print('')\n",
    "print('ions_number= ',ions_number, ' is ',type(ions_number))\n",
    "print('')\n",
    "#print('configuration_label= ',configuration_label, ' is ',type(configuration_label[0]))\n",
    "#print('')\n",
    "#print('ions_vectors= ',ions_vectors, ' is ',type(ions_vectors))\n",
    "#print('')\n",
    "#print('configuration= ',configuration, ' is ',type(configuration))\n",
    "#print('')\n",
    "print('configuration= ',configuration[0:100], ' is ',type(configuration))\n",
    "print('')\n",
    "print('configuration= ',configuration[9900:], ' is ',type(configuration))\n",
    "print('')\n"
   ]
  },
  {
   "cell_type": "markdown",
   "metadata": {},
   "source": [
    " # Test ou module du program\n",
    " ### ------------------------------------------------------------------------------------ "
   ]
  },
  {
   "cell_type": "code",
   "execution_count": null,
   "metadata": {},
   "outputs": [],
   "source": []
  },
  {
   "cell_type": "markdown",
   "metadata": {},
   "source": [
    "## Creating an array wit label that correspond to ions in orer to identify them."
   ]
  },
  {
   "cell_type": "code",
   "execution_count": 21,
   "metadata": {},
   "outputs": [
    {
     "name": "stdout",
     "output_type": "stream",
     "text": [
      "['Ru1', 'Ru2', 'Ru3', 'Ru4', 'Ru5', 'Ru6', 'Ru7', 'Ru8', 'Ru9', 'Ru10', 'Ru11', 'Ru12', 'Ru13', 'Ru14', 'Ru15', 'Ru16', 'Ru17', 'Ru18', 'Ru19', 'Ru20', 'Ru21', 'Ru22', 'Ru23', 'Ru24', 'Ru25', 'Ru26', 'Ru27', 'Ru28', 'Ru29', 'Ru30', 'Ru31', 'Ru32', 'Ru33', 'Ru34', 'Ru35', 'Ru36', 'Ru37', 'Ru38', 'Ru39', 'Ru40', 'C1', 'C2', 'C3', 'C4', 'O1', 'O2', 'O3', 'O4', 'O5', 'O6', 'O7', 'O8']\n"
     ]
    }
   ],
   "source": [
    "\n",
    "#Now that data has been loads, we can play with it\n",
    "\n",
    "##################################################\n",
    "#   Creating an array of ions' label to later identy them\n",
    "##################################################\n",
    "\n",
    "\n",
    "ion_label = []\n",
    "for i in range(3):\n",
    "    for j in range(species_number[i]):\n",
    "        k=j+1\n",
    "        ion_label.append(species[i]+str(k))\n",
    "print(ion_label)\n",
    "        \n",
    "        \n",
    "##################################################\n",
    "#   \n",
    "##################################################"
   ]
  },
  {
   "cell_type": "markdown",
   "metadata": {},
   "source": [
    "## Convert from direct to cartesian values "
   ]
  },
  {
   "cell_type": "code",
   "execution_count": 29,
   "metadata": {},
   "outputs": [],
   "source": [
    "def direct_to_cartesian(coordinate,cell_matrix, print_cell_vectors= False):\n",
    "    \"\"\"This function aim to convert a direct coordinate [x,y,z] array to a cartesian [x,y,z] array using the cell matrix.\n",
    "    \n",
    "    Variables:\n",
    "    ----------\n",
    "    \n",
    "    coordinate: must be an [x,y,z] array\n",
    "    \n",
    "    cell_matrix: must be a matrix such as [[x,y,z],[x,y,z],[x,y,z]] in order to convert the coordinate array. Note that each row of the matrix are repectively a,b,c cell's vector.\n",
    "    \n",
    "    \n",
    "    Examples:\n",
    "    ---------\n",
    "    \n",
    "    \n",
    "    \"\"\"\n",
    "    #Loop to check if the convertion is possible\n",
    "    if not np.any(cell_matrix):\n",
    "        print('The given cell matrix is empty. Please give cell matrix.')\n",
    "    else:\n",
    "        if print_cell_vectors == True:\n",
    "            print('Cell vectors are :', cell_matrix)\n",
    "    #Starting conversion\n",
    "    return np.matmul(cell_matrix,coordinate)\n",
    "    "
   ]
  },
  {
   "cell_type": "code",
   "execution_count": 53,
   "metadata": {},
   "outputs": [
    {
     "name": "stdout",
     "output_type": "stream",
     "text": [
      "cell vectors:\n",
      "[[10.92      0.        0.      ]\n",
      " [ 2.73      4.728499  0.      ]\n",
      " [ 0.        0.       30.0027  ]]\n",
      "\n",
      "vector\n",
      "[0.91331156 0.36522782 0.33137538]\n",
      "\n",
      "cell x vect\n",
      "[9.97336224 4.22031994 9.94215611]\n",
      "\n",
      "vect x cell\n",
      "[9.97336224 4.22031994 9.94215611]\n",
      "\n",
      "1.9939920934069546\n"
     ]
    }
   ],
   "source": [
    "print('cell vectors:')\n",
    "print(cell_vectors)\n",
    "print('')\n",
    "print('vector')\n",
    "print(configuration[0][51,:])\n",
    "print('')\n",
    "print('cell x vect')\n",
    "print(np.matmul(cell_vectors,configuration[0][51,:]))\n",
    "print('')\n",
    "print('vect x cell')\n",
    "print(np.matmul(cell_vectors,configuration[0][51,:]))\n",
    "print('')\n",
    "print(0.3652*np.linalg.norm(np.array( [ 2.73,4.728499,  0.      ])))"
   ]
  },
  {
   "cell_type": "code",
   "execution_count": 36,
   "metadata": {},
   "outputs": [],
   "source": [
    "#print(np.asarray(cell_vectors))\n",
    "#print(type(np.asarray(cell_vectors)[0,1]))"
   ]
  },
  {
   "cell_type": "code",
   "execution_count": 31,
   "metadata": {},
   "outputs": [
    {
     "name": "stderr",
     "output_type": "stream",
     "text": [
      "IOPub data rate exceeded.\n",
      "The notebook server will temporarily stop sending output\n",
      "to the client in order to avoid crashing it.\n",
      "To change this limit, set the config variable\n",
      "`--NotebookApp.iopub_data_rate_limit`.\n",
      "\n",
      "Current values:\n",
      "NotebookApp.iopub_data_rate_limit=1000000.0 (bytes/sec)\n",
      "NotebookApp.rate_limit_window=3.0 (secs)\n",
      "\n"
     ]
    }
   ],
   "source": [
    "real_cell_vectors = lparam_a * np.asarray(cell_vectors)\n",
    "\n",
    "for i in range(config_number):\n",
    "    for j in range(ions_number):\n",
    "       cartesian_configuration = np.ndarray(direct_to_cartesian(configuration[i][j,:],cell_vectors))\n"
   ]
  },
  {
   "cell_type": "code",
   "execution_count": 33,
   "metadata": {},
   "outputs": [
    {
     "ename": "IndexError",
     "evalue": "too many indices for array",
     "output_type": "error",
     "traceback": [
      "\u001b[0;31m---------------------------------------------------------------------------\u001b[0m",
      "\u001b[0;31mIndexError\u001b[0m                                Traceback (most recent call last)",
      "\u001b[0;32m<ipython-input-33-aeddd1a726b5>\u001b[0m in \u001b[0;36m<module>\u001b[0;34m\u001b[0m\n\u001b[0;32m----> 1\u001b[0;31m \u001b[0mprint\u001b[0m\u001b[0;34m(\u001b[0m\u001b[0mcartesian_configuration\u001b[0m\u001b[0;34m[\u001b[0m\u001b[0;36m0\u001b[0m\u001b[0;34m]\u001b[0m\u001b[0;34m[\u001b[0m\u001b[0;36m51\u001b[0m\u001b[0;34m,\u001b[0m\u001b[0;34m:\u001b[0m\u001b[0;34m]\u001b[0m\u001b[0;34m)\u001b[0m\u001b[0;34m\u001b[0m\u001b[0m\n\u001b[0m",
      "\u001b[0;31mIndexError\u001b[0m: too many indices for array"
     ]
    }
   ],
   "source": [
    "print(cartesian_configuration[0][51,:])"
   ]
  },
  {
   "cell_type": "code",
   "execution_count": null,
   "metadata": {},
   "outputs": [],
   "source": []
  },
  {
   "cell_type": "code",
   "execution_count": null,
   "metadata": {},
   "outputs": [],
   "source": []
  },
  {
   "cell_type": "code",
   "execution_count": null,
   "metadata": {},
   "outputs": [],
   "source": []
  },
  {
   "cell_type": "code",
   "execution_count": null,
   "metadata": {},
   "outputs": [],
   "source": []
  },
  {
   "cell_type": "code",
   "execution_count": null,
   "metadata": {},
   "outputs": [],
   "source": []
  },
  {
   "cell_type": "code",
   "execution_count": null,
   "metadata": {},
   "outputs": [],
   "source": []
  },
  {
   "cell_type": "code",
   "execution_count": 16,
   "metadata": {},
   "outputs": [
    {
     "name": "stdout",
     "output_type": "stream",
     "text": [
      "Distance mean:  0.2503028651235566\n"
     ]
    },
    {
     "data": {
      "text/plain": [
       "[<matplotlib.lines.Line2D at 0x7fd0cabfb630>]"
      ]
     },
     "execution_count": 16,
     "metadata": {},
     "output_type": "execute_result"
    },
    {
     "data": {
      "image/png": "[encoded data removed]",
      "text/plain": [
       "<Figure size 432x288 with 1 Axes>"
      ]
     },
     "metadata": {
      "needs_background": "light"
     },
     "output_type": "display_data"
    }
   ],
   "source": [
    "#print(configuration[1][50,:])\n",
    "#print(configuration[1][51,:])\n",
    "#print(np.linalg.norm(configuration[1][50,:]-configuration[1][51,:]))\n",
    "#print(np.linalg.norm(configuration[2][50,:]-configuration[2][51,:]))\n",
    "distance = []\n",
    "for i in range(config_number):\n",
    "    #print(i)\n",
    "    distance.append(np.linalg.norm(configuration[i][50,:]-configuration[i][51,:]))\n",
    "    \n",
    "\n",
    "print('Distance mean: ', np.mean(distance))    \n",
    "#print(distance)\n",
    "plt.plot(range(config_number),distance)"
   ]
  },
  {
   "cell_type": "markdown",
   "metadata": {},
   "source": [
    "Pour /home/auguste/TEST/IBRION_2/XDATCAR:\n",
    "-----------------------------------------------------------------------\n",
    "\n",
    "Si on prends deux vecteurs position tel ceux de O_7 et O_8, la norme de la difference de leurs vecteur position reste constante tout le long de la minimisation. Soit je me suis trompé dans ce qu'il me semble être la distance entre les deux vecteurs, soit il y a quelaue chose de très étrange...  "
   ]
  },
  {
   "cell_type": "code",
   "execution_count": null,
   "metadata": {},
   "outputs": [],
   "source": []
  }
 ],
 "metadata": {
  "kernelspec": {
   "display_name": "Python 3",
   "language": "python",
   "name": "python3"
  },
  "language_info": {
   "codemirror_mode": {
    "name": "ipython",
    "version": 3
   },
   "file_extension": ".py",
   "mimetype": "text/x-python",
   "name": "python",
   "nbconvert_exporter": "python",
   "pygments_lexer": "ipython3",
   "version": "3.6.6"
  }
 },
 "nbformat": 4,
 "nbformat_minor": 2
}
